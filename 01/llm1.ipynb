{
 "cells": [
  {
   "cell_type": "code",
   "execution_count": 1,
   "id": "8bca3c42-a14b-4851-9046-1cbc76482ca0",
   "metadata": {},
   "outputs": [
    {
     "name": "stdout",
     "output_type": "stream",
     "text": [
      "--2025-03-15 18:17:36--  https://raw.githubusercontent.com/alexeygrigorev/minsearch/main/minsearch.py\n",
      "Resolving raw.githubusercontent.com (raw.githubusercontent.com)... 185.199.108.133, 185.199.110.133, 185.199.109.133, ...\n",
      "Connecting to raw.githubusercontent.com (raw.githubusercontent.com)|185.199.108.133|:443... connected.\n",
      "HTTP request sent, awaiting response... 200 OK\n",
      "Length: 3832 (3.7K) [text/plain]\n",
      "Saving to: ‘minsearch.py’\n",
      "\n",
      "minsearch.py        100%[===================>]   3.74K  --.-KB/s    in 0s      \n",
      "\n",
      "2025-03-15 18:17:36 (58.5 MB/s) - ‘minsearch.py’ saved [3832/3832]\n",
      "\n"
     ]
    }
   ],
   "source": [
    "!wget https://raw.githubusercontent.com/alexeygrigorev/minsearch/main/minsearch.py -O minsearch.py"
   ]
  },
  {
   "cell_type": "code",
   "execution_count": 2,
   "id": "6a7b4a3e-e743-4472-9b6f-c8170a607f15",
   "metadata": {},
   "outputs": [],
   "source": [
    "import minsearch"
   ]
  },
  {
   "cell_type": "code",
   "execution_count": 3,
   "id": "6be98350-a775-46d7-a205-bc6ce2e0c494",
   "metadata": {},
   "outputs": [],
   "source": [
    "import json"
   ]
  },
  {
   "cell_type": "code",
   "execution_count": 4,
   "id": "a33ccdaa-514b-4116-8f21-1a33fc6db85d",
   "metadata": {},
   "outputs": [],
   "source": [
    "with open('documents.json', 'rt') as f_in:\n",
    "    docs_raw = json.load(f_in)\n"
   ]
  },
  {
   "cell_type": "code",
   "execution_count": 5,
   "id": "a06b4172-c7e6-4d0c-9dad-a0818c39553f",
   "metadata": {},
   "outputs": [],
   "source": [
    "documents = []\n",
    "\n",
    "for course in docs_raw:\n",
    "    course_name = course['course']\n",
    "\n",
    "    for doc in course['documents']:\n",
    "        doc['course'] = course_name\n",
    "        documents.append(doc)"
   ]
  },
  {
   "cell_type": "markdown",
   "id": "290e40b7-1467-45a9-ad47-8305fd0914ac",
   "metadata": {},
   "source": [
    "index = minsearch.Index(\n",
    "    text_fields=[\"question\",\"text\",\"section\"], keyyword_fields=[\"course\"]\n",
    "    )"
   ]
  },
  {
   "cell_type": "code",
   "execution_count": 6,
   "id": "4cd5b7b7-781d-4c9c-b29d-3e4f4977464a",
   "metadata": {},
   "outputs": [],
   "source": [
    "q = 'the course has alrady started, can I sitll enroll?'"
   ]
  },
  {
   "cell_type": "code",
   "execution_count": 7,
   "id": "a8a68939-7f3f-4683-8b2d-4c99e7cb1420",
   "metadata": {},
   "outputs": [],
   "source": [
    "index = minsearch.Index( text_fields=[\"question\",\"text\",\"section\"], keyword_fields=[\"course\"] )"
   ]
  },
  {
   "cell_type": "code",
   "execution_count": 8,
   "id": "ef723398-bc4b-4e6d-81c1-3da13d2559bc",
   "metadata": {},
   "outputs": [
    {
     "data": {
      "text/plain": [
       "<minsearch.Index at 0x75510c420b90>"
      ]
     },
     "execution_count": 8,
     "metadata": {},
     "output_type": "execute_result"
    }
   ],
   "source": [
    "index.fit(documents)"
   ]
  },
  {
   "cell_type": "code",
   "execution_count": 9,
   "id": "831b77a8-1073-4e11-85a2-f355baccdf5d",
   "metadata": {},
   "outputs": [],
   "source": [
    "boost = {'question':2.0, 'text':1.3, 'section':0.5}\n",
    "\n",
    "results = index.search(\n",
    "query = q,\n",
    "boost_dict=boost,\n",
    "num_results=5\n",
    ")\n",
    "    "
   ]
  },
  {
   "cell_type": "code",
   "execution_count": 10,
   "id": "488e0281-a155-4675-9750-ec25b5f4fd0b",
   "metadata": {},
   "outputs": [
    {
     "data": {
      "text/plain": [
       "[{'text': 'Yes, you can. You won’t be able to submit some of the homeworks, but you can still take part in the course.\\nIn order to get a certificate, you need to submit 2 out of 3 course projects and review 3 peers’ Projects by the deadline. It means that if you join the course at the end of November and manage to work on two projects, you will still be eligible for a certificate.',\n",
       "  'section': 'General course-related questions',\n",
       "  'question': 'The course has already started. Can I still join it?',\n",
       "  'course': 'machine-learning-zoomcamp'},\n",
       " {'text': 'Yes, we will keep all the materials after the course finishes, so you can follow the course at your own pace after it finishes.\\nYou can also continue looking at the homeworks and continue preparing for the next cohort. I guess you can also start working on your final capstone project.',\n",
       "  'section': 'General course-related questions',\n",
       "  'question': 'Course - Can I follow the course after it finishes?',\n",
       "  'course': 'data-engineering-zoomcamp'},\n",
       " {'text': \"The purpose of this document is to capture frequently asked technical questions\\nThe exact day and hour of the course will be 15th Jan 2024 at 17h00. The course will start with the first  “Office Hours'' live.1\\nSubscribe to course public Google Calendar (it works from Desktop only).\\nRegister before the course starts using this link.\\nJoin the course Telegram channel with announcements.\\nDon’t forget to register in DataTalks.Club's Slack and join the channel.\",\n",
       "  'section': 'General course-related questions',\n",
       "  'question': 'Course - When will the course start?',\n",
       "  'course': 'data-engineering-zoomcamp'},\n",
       " {'text': 'You can start by installing and setting up all the dependencies and requirements:\\nGoogle cloud account\\nGoogle Cloud SDK\\nPython 3 (installed with Anaconda)\\nTerraform\\nGit\\nLook over the prerequisites and syllabus to see if you are comfortable with these subjects.',\n",
       "  'section': 'General course-related questions',\n",
       "  'question': 'Course - What can I do before the course starts?',\n",
       "  'course': 'data-engineering-zoomcamp'},\n",
       " {'text': \"Yes, even if you don't register, you're still eligible to submit the homeworks.\\nBe aware, however, that there will be deadlines for turning in the final projects. So don't leave everything for the last minute.\",\n",
       "  'section': 'General course-related questions',\n",
       "  'question': 'Course - Can I still join the course after the start date?',\n",
       "  'course': 'data-engineering-zoomcamp'}]"
      ]
     },
     "execution_count": 10,
     "metadata": {},
     "output_type": "execute_result"
    }
   ],
   "source": [
    "results"
   ]
  },
  {
   "cell_type": "code",
   "execution_count": 11,
   "id": "b0fc5659-e1ac-422f-9e8c-b1b223ac8c95",
   "metadata": {},
   "outputs": [],
   "source": [
    "from openai import OpenAI"
   ]
  },
  {
   "cell_type": "code",
   "execution_count": 12,
   "id": "cf7f2819-8236-4520-9ab5-ac93c237053b",
   "metadata": {},
   "outputs": [],
   "source": [
    "client = OpenAI()"
   ]
  },
  {
   "cell_type": "code",
   "execution_count": 13,
   "id": "d4757a6f-ddfe-4c34-86da-c91bbf080641",
   "metadata": {},
   "outputs": [],
   "source": [
    "\n",
    "response = client.chat.completions.create(\n",
    "    model='gpt-4o',\n",
    "    messages=[{\"role\":\"user\",\"content\":q}])"
   ]
  },
  {
   "cell_type": "code",
   "execution_count": 14,
   "id": "23d86a85-466f-4cf4-af38-d2e99975eb94",
   "metadata": {},
   "outputs": [
    {
     "data": {
      "text/plain": [
       "ChatCompletion(id='chatcmpl-BBQMrztuLo6lJGlQexTtkvLBoRYWp', choices=[Choice(finish_reason='stop', index=0, logprobs=None, message=ChatCompletionMessage(content='If the course has already started, whether you can still enroll depends on several factors:\\n\\n1. **Institution Policies:** Check the policies of the institution offering the course. Some institutions allow late enrollment within a certain time frame, while others have strict deadlines.\\n\\n2. **Course Type:** For online or self-paced courses, late enrollment might be possible since you can catch up at your own pace. For in-person or synchronous online courses, catching up might be more challenging.\\n\\n3. **Instructor Approval:** Sometimes, gaining permission directly from the instructor can allow you to enroll late, especially if you have a compelling reason.\\n\\n4. **Impact on Learning:** Consider how much content you have missed and whether you can realistically catch up without negatively impacting your learning or performance.\\n\\n5. **Registration Deadlines:** If you’re in a university setting, there may be an add/drop period during which you can still register for courses without penalties.\\n\\nTo take action, contact the course administrator or instructor as soon as possible to inquire about your options.', refusal=None, role='assistant', audio=None, function_call=None, tool_calls=None, annotations=[]))], created=1742062665, model='gpt-4o-2024-08-06', object='chat.completion', service_tier='default', system_fingerprint='fp_f9f4fb6dbf', usage=CompletionUsage(completion_tokens=205, prompt_tokens=21, total_tokens=226, completion_tokens_details=CompletionTokensDetails(accepted_prediction_tokens=0, audio_tokens=0, reasoning_tokens=0, rejected_prediction_tokens=0), prompt_tokens_details=PromptTokensDetails(audio_tokens=0, cached_tokens=0)))"
      ]
     },
     "execution_count": 14,
     "metadata": {},
     "output_type": "execute_result"
    }
   ],
   "source": [
    "response"
   ]
  },
  {
   "cell_type": "code",
   "execution_count": 15,
   "id": "0e449ed3-18b4-4636-bec9-b08f5de21d72",
   "metadata": {},
   "outputs": [],
   "source": [
    "prompt_template = \"\"\"\n",
    "You are a course teaching assistant. Answer the QUESTION based on the CONTEXT. Use only the facts from the CONTEXT when awsering. \n",
    "Do not ignore this condition. CONTEXT need to be provided.\n",
    "If CONTEXT does not contain the anser, output 42.\n",
    "\n",
    "QUESTION :{question}\n",
    "\n",
    "CONTEXT:\n",
    "{context}\n",
    "\n",
    "\"\"\".strip()"
   ]
  },
  {
   "cell_type": "code",
   "execution_count": 16,
   "id": "07f855d1-bd27-4799-89d5-4f4c280022fd",
   "metadata": {},
   "outputs": [],
   "source": [
    "context = \"\"\n",
    "\n",
    "for doc in results:\n",
    "    context = context + f\"section: {doc['section']}\\nquestion: {doc['question']}\\nanswer: {doc['text']}\\n\\n\""
   ]
  },
  {
   "cell_type": "code",
   "execution_count": 17,
   "id": "087abb5c-4345-449c-abd9-012d33bd51bf",
   "metadata": {},
   "outputs": [],
   "source": [
    "prompt = prompt_template.format(question=q, context=context).strip()"
   ]
  },
  {
   "cell_type": "code",
   "execution_count": 18,
   "id": "a7276efc-93f2-450b-932c-64db19b1a1f4",
   "metadata": {},
   "outputs": [
    {
     "name": "stdout",
     "output_type": "stream",
     "text": [
      "You are a course teaching assistant. Answer the QUESTION based on the CONTEXT. Use only the facts from the CONTEXT when awsering. \n",
      "Do not ignore this condition. CONTEXT need to be provided.\n",
      "If CONTEXT does not contain the anser, output 42.\n",
      "\n",
      "QUESTION :the course has alrady started, can I sitll enroll?\n",
      "\n",
      "CONTEXT:\n",
      "section: General course-related questions\n",
      "question: The course has already started. Can I still join it?\n",
      "answer: Yes, you can. You won’t be able to submit some of the homeworks, but you can still take part in the course.\n",
      "In order to get a certificate, you need to submit 2 out of 3 course projects and review 3 peers’ Projects by the deadline. It means that if you join the course at the end of November and manage to work on two projects, you will still be eligible for a certificate.\n",
      "\n",
      "section: General course-related questions\n",
      "question: Course - Can I follow the course after it finishes?\n",
      "answer: Yes, we will keep all the materials after the course finishes, so you can follow the course at your own pace after it finishes.\n",
      "You can also continue looking at the homeworks and continue preparing for the next cohort. I guess you can also start working on your final capstone project.\n",
      "\n",
      "section: General course-related questions\n",
      "question: Course - When will the course start?\n",
      "answer: The purpose of this document is to capture frequently asked technical questions\n",
      "The exact day and hour of the course will be 15th Jan 2024 at 17h00. The course will start with the first  “Office Hours'' live.1\n",
      "Subscribe to course public Google Calendar (it works from Desktop only).\n",
      "Register before the course starts using this link.\n",
      "Join the course Telegram channel with announcements.\n",
      "Don’t forget to register in DataTalks.Club's Slack and join the channel.\n",
      "\n",
      "section: General course-related questions\n",
      "question: Course - What can I do before the course starts?\n",
      "answer: You can start by installing and setting up all the dependencies and requirements:\n",
      "Google cloud account\n",
      "Google Cloud SDK\n",
      "Python 3 (installed with Anaconda)\n",
      "Terraform\n",
      "Git\n",
      "Look over the prerequisites and syllabus to see if you are comfortable with these subjects.\n",
      "\n",
      "section: General course-related questions\n",
      "question: Course - Can I still join the course after the start date?\n",
      "answer: Yes, even if you don't register, you're still eligible to submit the homeworks.\n",
      "Be aware, however, that there will be deadlines for turning in the final projects. So don't leave everything for the last minute.\n"
     ]
    }
   ],
   "source": [
    "print(prompt)"
   ]
  },
  {
   "cell_type": "code",
   "execution_count": 19,
   "id": "a7bca511-635c-4d8d-86f2-fc9d503593ee",
   "metadata": {},
   "outputs": [],
   "source": [
    "response = client.chat.completions.create(\n",
    "    model='gpt-4o',\n",
    "    messages=[{\"role\":\"user\",\"content\":prompt}])"
   ]
  },
  {
   "cell_type": "code",
   "execution_count": 20,
   "id": "47dc32aa-18e2-444d-8888-17344514d986",
   "metadata": {},
   "outputs": [
    {
     "data": {
      "text/plain": [
       "'Yes, you can still enroll in the course after it has started. However, you won’t be able to submit some of the homeworks. To get a certificate, you need to submit 2 out of 3 course projects and review 3 peers’ projects by the deadline.'"
      ]
     },
     "execution_count": 20,
     "metadata": {},
     "output_type": "execute_result"
    }
   ],
   "source": [
    "response.choices[0].message.content"
   ]
  },
  {
   "cell_type": "code",
   "execution_count": 21,
   "id": "ba8b2bc8-af9f-4800-84d7-b1eab569eb15",
   "metadata": {},
   "outputs": [],
   "source": [
    "prompt = prompt_template.format(question=q, context=\"\").strip()"
   ]
  },
  {
   "cell_type": "code",
   "execution_count": 22,
   "id": "fc3ffa09-e8e7-4d3b-be45-841c02d36981",
   "metadata": {},
   "outputs": [],
   "source": [
    "response = client.chat.completions.create(\n",
    "    model='gpt-4o',\n",
    "    messages=[{\"role\":\"user\",\"content\":prompt}])"
   ]
  },
  {
   "cell_type": "code",
   "execution_count": 23,
   "id": "36dbc909-d32b-4d2c-83f7-133aa18ca0c4",
   "metadata": {},
   "outputs": [
    {
     "data": {
      "text/plain": [
       "'42'"
      ]
     },
     "execution_count": 23,
     "metadata": {},
     "output_type": "execute_result"
    }
   ],
   "source": [
    "response.choices[0].message.content"
   ]
  },
  {
   "cell_type": "code",
   "execution_count": 24,
   "id": "88a80b8f-ff23-4f93-b618-b52a95f9b25d",
   "metadata": {},
   "outputs": [],
   "source": [
    "prompt = prompt_template.format(question=q, context=\"Im amazing and this is what you have, some other stufff, I don't know what to do.\").strip()"
   ]
  },
  {
   "cell_type": "code",
   "execution_count": 25,
   "id": "5c694ddf-db69-4d4e-b1b9-d44d2ea23c78",
   "metadata": {},
   "outputs": [],
   "source": [
    "response = client.chat.completions.create(\n",
    "    model='gpt-4o',\n",
    "    messages=[{\"role\":\"user\",\"content\":prompt}])\n"
   ]
  },
  {
   "cell_type": "code",
   "execution_count": 26,
   "id": "7c8084c6-6657-4320-bc49-d5c2fe11dd60",
   "metadata": {},
   "outputs": [
    {
     "data": {
      "text/plain": [
       "'42'"
      ]
     },
     "execution_count": 26,
     "metadata": {},
     "output_type": "execute_result"
    }
   ],
   "source": [
    "response.choices[0].message.content"
   ]
  },
  {
   "cell_type": "code",
   "execution_count": 77,
   "id": "2dbf05f8-93c9-45b4-be3a-3989babcf6c6",
   "metadata": {},
   "outputs": [],
   "source": [
    "def search(query):\n",
    "    boost = {'question':2.0, 'text':1.3, 'section':0.5}\n",
    "\n",
    "    results = index.search(\n",
    "    query = query,\n",
    "    filter_dict={'course':'data-engineering-zoomcamp'},\n",
    "    boost_dict=boost,\n",
    "    num_results=10\n",
    "    )\n",
    "    return results"
   ]
  },
  {
   "cell_type": "code",
   "execution_count": 78,
   "id": "248a8078-7be5-4b96-bf30-e0c8b4e042ef",
   "metadata": {},
   "outputs": [],
   "source": [
    "def build_prompt(query, search_result):\n",
    "    prompt_template = \"\"\"\n",
    "    You are a course teaching assistant. Answer the QUESTION based on the CONTEXT. Use only the facts from the CONTEXT when awsering. \n",
    "    Do not ignore this condition. CONTEXT need to be provided.\n",
    "    \n",
    "    QUESTION :{question}\n",
    "    \n",
    "    CONTEXT:\n",
    "    {context}\n",
    "    \"\"\".strip()\n",
    "    \n",
    "    context = \"\"\n",
    "    \n",
    "    for doc in search_result:\n",
    "        context = context + f\"section: {doc['section']}\\nquestion: {doc['question']}\\nanswer: {doc['text']}\\n\\n\"\n",
    "    \n",
    "    prompt = prompt_template.format(question=query, context=context).strip()\n",
    "    return prompt\n",
    "    "
   ]
  },
  {
   "cell_type": "code",
   "execution_count": 79,
   "id": "20877494-a9ec-467b-be07-3137c7f0d0f1",
   "metadata": {},
   "outputs": [],
   "source": [
    "def llm(prompt):\n",
    "    response = client.chat.completions.create(\n",
    "    model='gpt-4o',\n",
    "    messages=[{\"role\":\"user\",\"content\":prompt}])\n",
    "    return response.choices[0].message.content"
   ]
  },
  {
   "cell_type": "code",
   "execution_count": 80,
   "id": "734ec4ea-63ab-475c-aaaa-140b1c0c0ede",
   "metadata": {},
   "outputs": [
    {
     "data": {
      "text/plain": [
       "'To run Kafka, you should first ensure that all necessary docker containers are up and running. Use the following steps:\\n\\n1. **Check Docker containers:**\\n   - Use the command `docker ps` to confirm that the Kafka broker docker container is active.\\n   \\n2. **Start Docker instances:**\\n   - If the Kafka broker is not running, navigate to the folder containing your docker compose YAML file and execute `docker compose up -d`. This starts all the required instances.\\n\\nMake sure you also have your environment set up for running any related Kafka scripts, such as ensuring you are in the appropriate virtual environment or Docker environment if needed.'"
      ]
     },
     "execution_count": 80,
     "metadata": {},
     "output_type": "execute_result"
    }
   ],
   "source": [
    "query = 'How do I run Kafka?'\n",
    "search_result = search(query)\n",
    "prompt = build_prompt(query, search_result)\n",
    "llm(prompt)"
   ]
  },
  {
   "cell_type": "code",
   "execution_count": 81,
   "id": "965bbc56-d80c-4ad6-8a59-d7892852964d",
   "metadata": {},
   "outputs": [],
   "source": [
    "def rag(query):\n",
    "    search_result = search(query)\n",
    "    prompt = build_prompt(query, search_result)\n",
    "    result = llm(prompt)\n",
    "    return result"
   ]
  },
  {
   "cell_type": "code",
   "execution_count": 82,
   "id": "1079ac49-61f4-4800-8bc4-8d87df586c2b",
   "metadata": {},
   "outputs": [
    {
     "data": {
      "text/plain": [
       "'To run Kafka, depending on your system and the context, you might need to:\\n\\n1. **Create and Use a Virtual Environment (for Python):**\\n   - Create a virtual environment:\\n     ```bash\\n     python -m venv env\\n     ```\\n   - Activate the virtual environment:\\n     - On MacOS/Linux:\\n       ```bash\\n       source env/bin/activate\\n       ```\\n     - On Windows:\\n       ```bash\\n       env\\\\Scripts\\\\activate\\n       ```\\n   - Install dependencies from `requirements.txt`:\\n     ```bash\\n     pip install -r ../requirements.txt\\n     ```\\n\\n2. **For Java Applications:**\\n   - Run your Java application from the terminal using the designated command format. For example:\\n     ```bash\\n     java -cp build/libs/<jar_name>-1.0-SNAPSHOT.jar:out src/main/java/org/example/JsonProducer.java\\n     ```\\n\\n3. **Using Docker (for Kafka and Related Tools):**\\n   - Ensure your Kafka broker is running. If encountering `kafka.errors.NoBrokersAvailable`, check that your Kafka broker Docker container is operational by running:\\n     ```bash\\n     docker ps\\n     ```\\n   - Start instances using Docker Compose:\\n     ```bash\\n     docker compose up -d\\n     ```\\n\\nThese instructions align with the information provided in the context for running Kafka-related processes effectively.'"
      ]
     },
     "execution_count": 82,
     "metadata": {},
     "output_type": "execute_result"
    }
   ],
   "source": [
    "rag('How can I run kafka?')"
   ]
  },
  {
   "cell_type": "code",
   "execution_count": 83,
   "id": "d5d3cf22-a6ed-4eed-b3f6-06295be79bcf",
   "metadata": {},
   "outputs": [],
   "source": [
    "from elasticsearch import Elasticsearch"
   ]
  },
  {
   "cell_type": "code",
   "execution_count": 84,
   "id": "f1e2bb72-4dd5-4f76-b0cd-697ad21edf80",
   "metadata": {},
   "outputs": [],
   "source": [
    "elastic_client = Elasticsearch('http://localhost:9200')"
   ]
  },
  {
   "cell_type": "code",
   "execution_count": 89,
   "id": "656db803-3d42-4b88-9ee9-1aa63e3adcf5",
   "metadata": {},
   "outputs": [],
   "source": [
    "index_settings=    {\n",
    "    \"settings\": {\n",
    "        \"number_of_shards\": 1,\n",
    "        \"number_of_replicas\": 0\n",
    "    },\n",
    "    \"mappings\": {\n",
    "        \"properties\": {\n",
    "            \"text\": {\"type\": \"text\"},\n",
    "            \"section\": {\"type\": \"text\"},\n",
    "            \"question\": {\"type\": \"text\"},\n",
    "            \"course\": {\"type\": \"keyword\"} \n",
    "        }\n",
    "    }\n",
    "}"
   ]
  },
  {
   "cell_type": "code",
   "execution_count": 90,
   "id": "bee7f040-4bfb-467a-96ed-6495354ff898",
   "metadata": {},
   "outputs": [],
   "source": [
    "index_name = 'course-questions'"
   ]
  },
  {
   "cell_type": "code",
   "execution_count": 91,
   "id": "3e666dad-ea99-43ca-a0dc-23be276d33da",
   "metadata": {},
   "outputs": [
    {
     "data": {
      "text/plain": [
       "ObjectApiResponse({'acknowledged': True, 'shards_acknowledged': True, 'index': 'course-questions'})"
      ]
     },
     "execution_count": 91,
     "metadata": {},
     "output_type": "execute_result"
    }
   ],
   "source": [
    "elastic_client.indices.create(index=index_name, body=index_settings)"
   ]
  },
  {
   "cell_type": "code",
   "execution_count": 96,
   "id": "9e75e447-05d9-4eec-961e-18ca8b2049fa",
   "metadata": {},
   "outputs": [
    {
     "data": {
      "application/vnd.jupyter.widget-view+json": {
       "model_id": "756ccc78e4a14e1483b76f45d0752c4a",
       "version_major": 2,
       "version_minor": 0
      },
      "text/plain": [
       "  0%|          | 0/948 [00:00<?, ?it/s]"
      ]
     },
     "metadata": {},
     "output_type": "display_data"
    }
   ],
   "source": [
    "from tqdm.auto import tqdm\n",
    "for doc in tqdm(documents):\n",
    "    elastic_client.index(index=index_name, document=doc)"
   ]
  },
  {
   "cell_type": "code",
   "execution_count": 99,
   "id": "be9b3753-dd23-45e3-93d8-4598e967bf8a",
   "metadata": {},
   "outputs": [],
   "source": [
    "query = 'I just discover the course, can I join'\n",
    "search_query={\n",
    "    \"size\": 5,\n",
    "    \"query\": {\n",
    "        \"bool\": {\n",
    "            \"must\": {\n",
    "                \"multi_match\": {\n",
    "                    \"query\": query,\n",
    "                    \"fields\": [\"question^3\", \"text\", \"section\"],\n",
    "                    \"type\": \"best_fields\"\n",
    "                }\n",
    "            },\n",
    "            \"filter\": {\n",
    "                \"term\": {\n",
    "                    \"course\": \"data-engineering-zoomcamp\"\n",
    "                }\n",
    "            }\n",
    "        }\n",
    "    }\n",
    "}"
   ]
  },
  {
   "cell_type": "code",
   "execution_count": 100,
   "id": "7dd42355-f46d-40c3-ad84-0fd5a465a212",
   "metadata": {},
   "outputs": [
    {
     "data": {
      "text/plain": [
       "ObjectApiResponse({'took': 1080, 'timed_out': False, '_shards': {'total': 1, 'successful': 1, 'skipped': 0, 'failed': 0}, 'hits': {'total': {'value': 398, 'relation': 'eq'}, 'max_score': 59.710346, 'hits': [{'_index': 'course-questions', '_id': 'HtEpm5UB9SmER-lH6snI', '_score': 59.710346, '_source': {'text': \"Yes, even if you don't register, you're still eligible to submit the homeworks.\\nBe aware, however, that there will be deadlines for turning in the final projects. So don't leave everything for the last minute.\", 'section': 'General course-related questions', 'question': 'Course - Can I still join the course after the start date?', 'course': 'data-engineering-zoomcamp'}}, {'_index': 'course-questions', '_id': 'INEpm5UB9SmER-lH6snS', '_score': 43.841484, '_source': {'text': 'You can start by installing and setting up all the dependencies and requirements:\\nGoogle cloud account\\nGoogle Cloud SDK\\nPython 3 (installed with Anaconda)\\nTerraform\\nGit\\nLook over the prerequisites and syllabus to see if you are comfortable with these subjects.', 'section': 'General course-related questions', 'question': 'Course - What can I do before the course starts?', 'course': 'data-engineering-zoomcamp'}}, {'_index': 'course-questions', '_id': 'I9Epm5UB9SmER-lH6snk', '_score': 43.841484, '_source': {'text': 'Yes, we will keep all the materials after the course finishes, so you can follow the course at your own pace after it finishes.\\nYou can also continue looking at the homeworks and continue preparing for the next cohort. I guess you can also start working on your final capstone project.', 'section': 'General course-related questions', 'question': 'Course - Can I follow the course after it finishes?', 'course': 'data-engineering-zoomcamp'}}, {'_index': 'course-questions', '_id': 'JNEpm5UB9SmER-lH6snt', '_score': 42.651314, '_source': {'text': 'Yes, the slack channel remains open and you can ask questions there. But always sDocker containers exit code w search the channel first and second, check the FAQ (this document), most likely all your questions are already answered here.\\nYou can also tag the bot @ZoomcampQABot to help you conduct the search, but don’t rely on its answers 100%, it is pretty good though.', 'section': 'General course-related questions', 'question': 'Course - Can I get support if I take the course in the self-paced mode?', 'course': 'data-engineering-zoomcamp'}}, {'_index': 'course-questions', '_id': 'H9Epm5UB9SmER-lH6snN', '_score': 35.820084, '_source': {'text': \"You don't need it. You're accepted. You can also just start learning and submitting homework without registering. It is not checked against any registered list. Registration is just to gauge interest before the start date.\", 'section': 'General course-related questions', 'question': 'Course - I have registered for the Data Engineering Bootcamp. When can I expect to receive the confirmation email?', 'course': 'data-engineering-zoomcamp'}}]}})"
      ]
     },
     "execution_count": 100,
     "metadata": {},
     "output_type": "execute_result"
    }
   ],
   "source": [
    "elastic_client.search(index=index_name, body=search_query)"
   ]
  },
  {
   "cell_type": "code",
   "execution_count": 103,
   "id": "eca480e3-104d-4ae9-b7ec-74703b591889",
   "metadata": {},
   "outputs": [],
   "source": [
    "def search_elastic(query): \n",
    "    search_query={\n",
    "    \"size\": 5,\n",
    "    \"query\": {\n",
    "        \"bool\": {\n",
    "            \"must\": {\n",
    "                \"multi_match\": {\n",
    "                    \"query\": query,\n",
    "                    \"fields\": [\"question^3\", \"text\", \"section\"],\n",
    "                    \"type\": \"best_fields\"\n",
    "                }\n",
    "            },\n",
    "            \"filter\": {\n",
    "                \"term\": {\n",
    "                    \"course\": \"data-engineering-zoomcamp\"\n",
    "                }\n",
    "            }\n",
    "        }\n",
    "    }\n",
    "}\n",
    "    result = elastic_client.search(index=index_name, body=search_query)\n",
    "    result_docs = []\n",
    "    for hit in result['hits']['hits']:\n",
    "       result_docs.append(hit['_source'])\n",
    "    return result_docs                     \n",
    "        \n",
    "    "
   ]
  },
  {
   "cell_type": "code",
   "execution_count": 104,
   "id": "9389fd7c-dd8b-401c-a3cd-070f6a31e3ba",
   "metadata": {},
   "outputs": [
    {
     "data": {
      "text/plain": [
       "[{'text': \"Yes, even if you don't register, you're still eligible to submit the homeworks.\\nBe aware, however, that there will be deadlines for turning in the final projects. So don't leave everything for the last minute.\",\n",
       "  'section': 'General course-related questions',\n",
       "  'question': 'Course - Can I still join the course after the start date?',\n",
       "  'course': 'data-engineering-zoomcamp'},\n",
       " {'text': 'You can start by installing and setting up all the dependencies and requirements:\\nGoogle cloud account\\nGoogle Cloud SDK\\nPython 3 (installed with Anaconda)\\nTerraform\\nGit\\nLook over the prerequisites and syllabus to see if you are comfortable with these subjects.',\n",
       "  'section': 'General course-related questions',\n",
       "  'question': 'Course - What can I do before the course starts?',\n",
       "  'course': 'data-engineering-zoomcamp'},\n",
       " {'text': 'Yes, we will keep all the materials after the course finishes, so you can follow the course at your own pace after it finishes.\\nYou can also continue looking at the homeworks and continue preparing for the next cohort. I guess you can also start working on your final capstone project.',\n",
       "  'section': 'General course-related questions',\n",
       "  'question': 'Course - Can I follow the course after it finishes?',\n",
       "  'course': 'data-engineering-zoomcamp'},\n",
       " {'text': 'Yes, the slack channel remains open and you can ask questions there. But always sDocker containers exit code w search the channel first and second, check the FAQ (this document), most likely all your questions are already answered here.\\nYou can also tag the bot @ZoomcampQABot to help you conduct the search, but don’t rely on its answers 100%, it is pretty good though.',\n",
       "  'section': 'General course-related questions',\n",
       "  'question': 'Course - Can I get support if I take the course in the self-paced mode?',\n",
       "  'course': 'data-engineering-zoomcamp'},\n",
       " {'text': \"You don't need it. You're accepted. You can also just start learning and submitting homework without registering. It is not checked against any registered list. Registration is just to gauge interest before the start date.\",\n",
       "  'section': 'General course-related questions',\n",
       "  'question': 'Course - I have registered for the Data Engineering Bootcamp. When can I expect to receive the confirmation email?',\n",
       "  'course': 'data-engineering-zoomcamp'}]"
      ]
     },
     "execution_count": 104,
     "metadata": {},
     "output_type": "execute_result"
    }
   ],
   "source": [
    "search_elastic(query)"
   ]
  },
  {
   "cell_type": "code",
   "execution_count": 105,
   "id": "d04b7a5e-b96e-41b1-a374-1b30068c0359",
   "metadata": {},
   "outputs": [],
   "source": [
    "def rag_es(query):\n",
    "    search_result = search_elastic(query)\n",
    "    prompt = build_prompt(query, search_result)\n",
    "    result = llm(prompt)\n",
    "    return result"
   ]
  },
  {
   "cell_type": "code",
   "execution_count": 106,
   "id": "96d0c475-4ae9-4654-8881-f7083487e35a",
   "metadata": {},
   "outputs": [
    {
     "data": {
      "text/plain": [
       "'Yes, you can still enroll in the course even after it has started. You are eligible to submit the homeworks and participate, but be mindful of the deadlines for final projects.'"
      ]
     },
     "execution_count": 106,
     "metadata": {},
     "output_type": "execute_result"
    }
   ],
   "source": [
    "rag_es('The course is stared, can I still enroll?')"
   ]
  },
  {
   "cell_type": "code",
   "execution_count": null,
   "id": "ae03a551-6a48-45b8-a85c-1d49555c3746",
   "metadata": {},
   "outputs": [],
   "source": []
  }
 ],
 "metadata": {
  "kernelspec": {
   "display_name": "Python 3 (ipykernel)",
   "language": "python",
   "name": "python3"
  },
  "language_info": {
   "codemirror_mode": {
    "name": "ipython",
    "version": 3
   },
   "file_extension": ".py",
   "mimetype": "text/x-python",
   "name": "python",
   "nbconvert_exporter": "python",
   "pygments_lexer": "ipython3",
   "version": "3.12.1"
  }
 },
 "nbformat": 4,
 "nbformat_minor": 5
}
